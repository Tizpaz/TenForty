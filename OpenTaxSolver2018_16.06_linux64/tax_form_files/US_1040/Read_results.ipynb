{
 "cells": [
  {
   "cell_type": "code",
   "execution_count": 2,
   "metadata": {},
   "outputs": [
    {
     "name": "stdout",
     "output_type": "stream",
     "text": [
      "      test cases  fail          pass   tf    com time\n",
      "0   36558.000000   0.0  36558.000000 -1.0  901.434624\n",
      "1   36369.000000   0.0  36369.000000 -1.0  901.553301\n",
      "2   37633.846154   0.0  37633.846154 -1.0  901.152937\n",
      "3   37035.000000   0.0  37035.000000 -1.0  900.892455\n",
      "4   36927.000000   0.0  36927.000000 -1.0  901.237174\n",
      "5   37044.000000   0.0  37044.000000 -1.0  901.317604\n",
      "6   37485.000000   0.0  37485.000000 -1.0  901.098104\n",
      "7   18333.000000   0.0  18333.000000 -1.0  901.709481\n",
      "8   37548.000000   0.0  37548.000000 -1.0  901.381037\n",
      "9   36081.000000   0.0  36081.000000 -1.0  901.314606\n",
      "10  17334.000000   0.0  17334.000000 -1.0  905.030215\n",
      "11  18486.000000   0.0  18486.000000 -1.0  902.343759\n",
      "12  36801.000000   0.0  36801.000000 -1.0  901.359068\n",
      "13  36774.000000   0.0  36774.000000 -1.0  900.788319\n",
      "14  36925.714286   0.0  36925.714286 -1.0  900.911454\n",
      "15  36846.000000   0.0  36846.000000 -1.0  901.262413\n"
     ]
    }
   ],
   "source": [
    "import os, glob\n",
    "import numpy as np\n",
    "import pandas as pd\n",
    "path = 'Results/average'\n",
    "average=[]\n",
    "for prop in range(1,17):\n",
    "    temp2 =[]\n",
    "    for filename in glob.glob(os.path.join(path, '*.txt')):\n",
    "        if '_'+str(prop)+'_' in filename:\n",
    "            \n",
    "            with open(os.path.join(os.getcwd(), filename), 'r') as f:\n",
    "                temp=[]\n",
    "                data = f.readlines()[1].split(',')\n",
    "                for i in data:\n",
    "                    temp.append(i.split(':')[1].replace('\\n',''))\n",
    "                temp2.append(temp)      \n",
    "    average.append(np.mean(np.array(temp2).astype('float'),axis=0))\n",
    "print(pd.DataFrame(average,columns=['test cases','fail','pass','tf','com time']))"
   ]
  },
  {
   "cell_type": "code",
   "execution_count": null,
   "metadata": {},
   "outputs": [],
   "source": []
  }
 ],
 "metadata": {
  "kernelspec": {
   "display_name": "Python 3",
   "language": "python",
   "name": "python3"
  },
  "language_info": {
   "codemirror_mode": {
    "name": "ipython",
    "version": 3
   },
   "file_extension": ".py",
   "mimetype": "text/x-python",
   "name": "python",
   "nbconvert_exporter": "python",
   "pygments_lexer": "ipython3",
   "version": "3.8.10"
  }
 },
 "nbformat": 4,
 "nbformat_minor": 4
}
