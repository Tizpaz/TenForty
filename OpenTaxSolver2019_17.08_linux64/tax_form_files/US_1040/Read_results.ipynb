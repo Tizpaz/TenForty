{
 "cells": [
  {
   "cell_type": "code",
   "execution_count": 1,
   "metadata": {},
   "outputs": [
    {
     "name": "stdout",
     "output_type": "stream",
     "text": [
      "    test cases  fail     pass   tf    com time\n",
      "0      35970.0   0.0  35970.0 -1.0  901.326956\n",
      "1      36780.0   0.0  36780.0 -1.0  900.840174\n",
      "2      36660.0   0.0  36660.0 -1.0  901.332237\n",
      "3      37170.0   0.0  37170.0 -1.0  900.929951\n",
      "4      37020.0   0.0  37020.0 -1.0  901.429032\n",
      "5      37170.0   0.0  37170.0 -1.0  901.233257\n",
      "6      36030.0   0.0  36030.0 -1.0  900.983235\n",
      "7      18180.0   0.0  18180.0 -1.0  902.405639\n",
      "8      37020.0   0.0  37020.0 -1.0  900.667447\n",
      "9      36720.0   0.0  36720.0 -1.0  900.605612\n",
      "10     18450.0   0.0  18450.0 -1.0  903.478264\n",
      "11     18390.0   0.0  18390.0 -1.0  902.683407\n",
      "12     36210.0   0.0  36210.0 -1.0  901.020873\n",
      "13     36780.0   0.0  36780.0 -1.0  901.230515\n",
      "14     36630.0   0.0  36630.0 -1.0  900.761271\n",
      "15     36570.0   0.0  36570.0 -1.0  900.634754\n"
     ]
    }
   ],
   "source": [
    "import os, glob\n",
    "import numpy as np\n",
    "import pandas as pd\n",
    "path = 'Results/average'\n",
    "average=[]\n",
    "for prop in range(1,17):\n",
    "    temp2 =[]\n",
    "    for filename in glob.glob(os.path.join(path, '*.txt')):\n",
    "        if '_'+str(prop)+'_' in filename:\n",
    "            \n",
    "            with open(os.path.join(os.getcwd(), filename), 'r') as f:\n",
    "                temp=[]\n",
    "                data = f.readlines()[1].split(',')\n",
    "                for i in data:\n",
    "                    temp.append(i.split(':')[1].replace('\\n',''))\n",
    "                temp2.append(temp)      \n",
    "    average.append(np.mean(np.array(temp2).astype('float'),axis=0))\n",
    "print(pd.DataFrame(average,columns=['test cases','fail','pass','tf','com time']))"
   ]
  },
  {
   "cell_type": "code",
   "execution_count": null,
   "metadata": {},
   "outputs": [],
   "source": []
  }
 ],
 "metadata": {
  "kernelspec": {
   "display_name": "Python 3",
   "language": "python",
   "name": "python3"
  },
  "language_info": {
   "codemirror_mode": {
    "name": "ipython",
    "version": 3
   },
   "file_extension": ".py",
   "mimetype": "text/x-python",
   "name": "python",
   "nbconvert_exporter": "python",
   "pygments_lexer": "ipython3",
   "version": "3.8.10"
  }
 },
 "nbformat": 4,
 "nbformat_minor": 4
}
